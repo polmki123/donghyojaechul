{
 "cells": [
  {
   "cell_type": "code",
   "execution_count": 1,
   "metadata": {},
   "outputs": [],
   "source": [
    "import pandas as pd"
   ]
  },
  {
   "cell_type": "markdown",
   "metadata": {},
   "source": [
    "# 데이터를 불러온다"
   ]
  },
  {
   "cell_type": "code",
   "execution_count": 2,
   "metadata": {},
   "outputs": [
    {
     "name": "stderr",
     "output_type": "stream",
     "text": [
      "C:\\Users\\punk\\Anaconda3\\lib\\site-packages\\IPython\\core\\interactiveshell.py:3057: DtypeWarning: Columns (502,503,504,505,506,507,508,509) have mixed types. Specify dtype option on import or set low_memory=False.\n",
      "  interactivity=interactivity, compiler=compiler, result=result)\n"
     ]
    }
   ],
   "source": [
    "df = pd.read_csv(\"..\\\\..\\\\data\\\\donghyojaechul_daily_stock_2years.csv\", encoding = \"ms949\")"
   ]
  },
  {
   "cell_type": "markdown",
   "metadata": {},
   "source": [
    "# 데이터의 계정이름을 사용하기 쉬운 계정이름으로 변환"
   ]
  },
  {
   "cell_type": "code",
   "execution_count": 3,
   "metadata": {},
   "outputs": [],
   "source": [
    "계정명 = df[\"Item Name \"].drop_duplicates().tolist()"
   ]
  },
  {
   "cell_type": "code",
   "execution_count": 4,
   "metadata": {},
   "outputs": [
    {
     "data": {
      "text/plain": [
       "['수정주가(원)', '수정고가(원)', '수정저가(원)', '거래대금(원)']"
      ]
     },
     "execution_count": 4,
     "metadata": {},
     "output_type": "execute_result"
    }
   ],
   "source": [
    "계정명"
   ]
  },
  {
   "cell_type": "code",
   "execution_count": 5,
   "metadata": {},
   "outputs": [],
   "source": [
    "바꿀계정명 = [\"주가\", \"고가\", \"저가\", \"거래량\"]"
   ]
  },
  {
   "cell_type": "code",
   "execution_count": 6,
   "metadata": {},
   "outputs": [
    {
     "name": "stdout",
     "output_type": "stream",
     "text": [
      "수정주가(원)     ->     주가\n",
      "수정고가(원)     ->     고가\n",
      "수정저가(원)     ->     저가\n",
      "거래대금(원)     ->     거래량\n"
     ]
    }
   ],
   "source": [
    "temp = {}\n",
    "\n",
    "for 계정 in range(len(계정명)):\n",
    "    temp[계정명[계정]] = 바꿀계정명[계정]\n",
    "    print(계정명[계정]+ \"     ->     \" +  바꿀계정명[계정])"
   ]
  },
  {
   "cell_type": "markdown",
   "metadata": {},
   "source": [
    "### 바뀐 계정 할당"
   ]
  },
  {
   "cell_type": "code",
   "execution_count": 7,
   "metadata": {},
   "outputs": [],
   "source": [
    "df = df.replace({\"Item Name \": temp})"
   ]
  },
  {
   "cell_type": "markdown",
   "metadata": {},
   "source": [
    "### df타입을 실수로 변환"
   ]
  },
  {
   "cell_type": "code",
   "execution_count": 8,
   "metadata": {},
   "outputs": [],
   "source": [
    "### 컬럼의 2014-12-31 string 포맷을 datetime 포맷으로 바꾼 후 데이터프레임을 회사명과 시간의 이중 인덱스로 바꿔줌"
   ]
  },
  {
   "cell_type": "code",
   "execution_count": 9,
   "metadata": {},
   "outputs": [],
   "source": [
    "df = df.set_index(['Symbol', \"Item Name \"])\n",
    "시간변환 = pd.to_datetime(df.columns)\n",
    "\n",
    "시간변환 = 시간변환.strftime(\"%Y-%m-%d\")\n",
    "시간변환 = 시간변환.rename(\"date\")\n",
    "df.columns = pd.to_datetime(시간변환)\n",
    "df = df.stack().swaplevel().unstack()"
   ]
  },
  {
   "cell_type": "markdown",
   "metadata": {},
   "source": [
    "### df type 실수로 변환"
   ]
  },
  {
   "cell_type": "code",
   "execution_count": 10,
   "metadata": {},
   "outputs": [],
   "source": [
    "for 계정 in df.columns:\n",
    "    df[계정] = df[계정].str.replace(',', \"\")\n",
    "\n",
    "df = df.astype(float)"
   ]
  },
  {
   "cell_type": "markdown",
   "metadata": {},
   "source": [
    "# 필터링 조건들을 생성한다"
   ]
  },
  {
   "cell_type": "code",
   "execution_count": 11,
   "metadata": {},
   "outputs": [],
   "source": [
    "company_list = df.index.levels[0]"
   ]
  },
  {
   "cell_type": "code",
   "execution_count": 12,
   "metadata": {},
   "outputs": [],
   "source": [
    "new_data = []\n",
    "for company in company_list:\n",
    "    temp = df.loc[company]\n",
    "    \n",
    "    # 급격한 상승 있었는지 필터\n",
    "    temp[\"10거래일 10% 이하 상승\"] = (temp[\"주가\"] - temp[\"주가\"].shift(10)) / temp[\"주가\"].shift(10) < 0.1\n",
    "    temp[\"40거래일 50% 이하 상승\"] = (temp[\"주가\"] - temp[\"주가\"].shift(30)) / temp[\"주가\"].shift(30) < 0.5\n",
    "    temp[\"80거래일 100% 이하 상승\"] = (temp[\"주가\"] - temp[\"주가\"].shift(80)) / temp[\"주가\"].shift(80) < 1\n",
    "\n",
    "    # 최저가 영역 필터\n",
    "\n",
    "    temp[\"30거래일 최저가 영역\"] = (temp[\"주가\"]  - temp[\"주가\"].rolling(30).min()) / temp[\"주가\"] < 0.05\n",
    "    temp[\"60거래일 최저가 영역\"] = (temp[\"주가\"]  - temp[\"주가\"].rolling(60).min()) / temp[\"주가\"] < 0.05\n",
    "    temp[\"90거래일 최저가 영역\"] = (temp[\"주가\"]  - temp[\"주가\"].rolling(90).min()) / temp[\"주가\"] < 0.1\n",
    "\n",
    "    # 거래량 필터\n",
    "    temp[\"20일 평균거래량 10억 이하\"] = temp[\"거래량\"].rolling(20).mean() < 1000000000\n",
    "    temp[\"20일 평균거래량 20억 이하\"] = temp[\"거래량\"].rolling(20).mean() < 2000000000\n",
    "\n",
    "    temp[\"60일 평균거래량 10억 이하\"] = temp[\"거래량\"].rolling(60).mean() < 1000000000\n",
    "    temp[\"60일 평균거래량 20억 이하\"] = temp[\"거래량\"].rolling(60).mean() < 2000000000\n",
    "\n",
    "    temp[\"100일 평균거래량 10억 이하\"] = temp[\"거래량\"].rolling(100).mean() < 1000000000\n",
    "    temp[\"100일 평균거래량 20억 이하\"] = temp[\"거래량\"].rolling(100).mean() < 2000000000\n",
    "    \n",
    "    \n",
    "    \n",
    "    temp[\"Symbol\"] = company\n",
    "    temp = temp.reset_index()\n",
    "    temp = temp.set_index([\"Symbol\", \"date\"])\n",
    "    \n",
    "    new_data.append(temp)  "
   ]
  },
  {
   "cell_type": "code",
   "execution_count": 13,
   "metadata": {},
   "outputs": [],
   "source": [
    "old = pd.DataFrame()\n",
    "for company_data in new_data:\n",
    "    old = pd.concat([old, company_data])"
   ]
  },
  {
   "cell_type": "code",
   "execution_count": 14,
   "metadata": {},
   "outputs": [],
   "source": [
    "필터조건 = [\"10거래일 10% 이하 상승\",\"40거래일 50% 이하 상승\",\"80거래일 100% 이하 상승\", \n",
    "        \"30거래일 최저가 영역\", \"60거래일 최저가 영역\", \"90거래일 최저가 영역\",\n",
    "       \"20일 평균거래량 10억 이하\",\"20일 평균거래량 20억 이하\",\"60일 평균거래량 10억 이하\",\"60일 평균거래량 20억 이하\",\n",
    "       \"100일 평균거래량 10억 이하\",\"100일 평균거래량 20억 이하\"]"
   ]
  },
  {
   "cell_type": "code",
   "execution_count": 15,
   "metadata": {},
   "outputs": [],
   "source": [
    "년도별조건 = old[필터조건]"
   ]
  },
  {
   "cell_type": "code",
   "execution_count": 16,
   "metadata": {},
   "outputs": [],
   "source": [
    "년도별조건.to_csv(\"daily_stock_filter.csv\", encoding = \"ms949\")"
   ]
  },
  {
   "cell_type": "code",
   "execution_count": null,
   "metadata": {},
   "outputs": [],
   "source": []
  }
 ],
 "metadata": {
  "kernelspec": {
   "display_name": "Python 3",
   "language": "python",
   "name": "python3"
  },
  "language_info": {
   "codemirror_mode": {
    "name": "ipython",
    "version": 3
   },
   "file_extension": ".py",
   "mimetype": "text/x-python",
   "name": "python",
   "nbconvert_exporter": "python",
   "pygments_lexer": "ipython3",
   "version": "3.7.3"
  }
 },
 "nbformat": 4,
 "nbformat_minor": 2
}
