{
 "cells": [
  {
   "cell_type": "code",
   "execution_count": 1,
   "metadata": {},
   "outputs": [],
   "source": [
    "import numpy as np\n",
    "import pandas as pd\n",
    "import datetime\n",
    "from dateutil.relativedelta import relativedelta\n",
    "import matplotlib.pyplot as plt"
   ]
  },
  {
   "cell_type": "code",
   "execution_count": 2,
   "metadata": {},
   "outputs": [
    {
     "name": "stderr",
     "output_type": "stream",
     "text": [
      "C:\\Users\\punk\\Anaconda3\\lib\\site-packages\\IPython\\core\\interactiveshell.py:3057: DtypeWarning: Columns (1842,1843,1844,1845,1846,1847,1848,1849,1850,1851,1852,1853,1854,1855,1856,1857,1858,1859,1860,1861,1862,1863,1864,1865) have mixed types. Specify dtype option on import or set low_memory=False.\n",
      "  interactivity=interactivity, compiler=compiler, result=result)\n"
     ]
    }
   ],
   "source": [
    "주가 = pd.read_csv(\"..\\\\..\\\\data\\\\daily_price.csv\", encoding = \"ms949\")\n",
    "\n",
    "financial_quarter = pd.read_csv(\"..\\\\..\\\\code\\\\데이터 전처리\\\\quarter_filter.csv\", encoding = \"ms949\", index_col = [\"Symbol\", \"date\"])\n",
    "financial_year = pd.read_csv(\"..\\\\..\\\\code\\\\데이터 전처리\\\\year_filter.csv\", encoding = \"ms949\", index_col = [\"Symbol\", \"date\"])\n",
    "stock_daily = pd.read_csv(\"..\\\\..\\\\code\\\\데이터 전처리\\\\daily_stock_filter.csv\", encoding = \"ms949\", index_col = [\"Symbol\", \"date\"])"
   ]
  },
  {
   "cell_type": "code",
   "execution_count": 3,
   "metadata": {},
   "outputs": [],
   "source": [
    "주가 = 주가.drop(\"Item Name \", axis = 1)\n",
    "주가 = 주가.set_index(\"Symbol\")\n",
    "시간변환 = pd.to_datetime(주가.columns)\n",
    "시간변환 = 시간변환.rename(\"date\")\n",
    "주가.columns = 시간변환\n",
    "\n",
    "for 시간 in 주가.columns:\n",
    "    주가[시간] = 주가[시간].str.replace(',', \"\")\n",
    "\n",
    "주가 = 주가.astype(float)\n",
    "주가 = 주가.transpose()"
   ]
  },
  {
   "cell_type": "code",
   "execution_count": 4,
   "metadata": {},
   "outputs": [],
   "source": [
    "financial_year = financial_year.reset_index().set_index([\"date\", \"Symbol\"])\n",
    "financial_quarter = financial_quarter.reset_index().set_index([\"date\", \"Symbol\"])\n",
    "stock_daily = stock_daily.reset_index().set_index([\"date\", \"Symbol\"]).sort_index()"
   ]
  },
  {
   "cell_type": "code",
   "execution_count": 5,
   "metadata": {},
   "outputs": [],
   "source": [
    "def assign_year(date):\n",
    "    date = datetime.datetime.strptime(date, \"%Y-%m-%d\")\n",
    "    year = date.year\n",
    "    month = date.month\n",
    "    \n",
    "    if month > 3:\n",
    "        ref_year = year - 1\n",
    "        \n",
    "    else:\n",
    "        ref_year = year - 2\n",
    "        \n",
    "    return (ref_year)\n",
    "        "
   ]
  },
  {
   "cell_type": "code",
   "execution_count": 6,
   "metadata": {},
   "outputs": [],
   "source": [
    "def assign_quarter(date):\n",
    "    date = datetime.datetime.strptime(date, \"%Y-%m-%d\")\n",
    "    year = date.year\n",
    "    month = date.month\n",
    "    day = date.day\n",
    "    \n",
    "    if month > 3:\n",
    "        if month == 4:\n",
    "            ref_year = year - 1\n",
    "            ref_month = \"12\"\n",
    "            \n",
    "        elif month == 5:\n",
    "            if day > 15:\n",
    "                ref_year = year\n",
    "                ref_month = \"03\"\n",
    "            else:\n",
    "                ref_year = year - 1\n",
    "                ref_month = \"12\"\n",
    "                \n",
    "        elif (month == 6) or (month == 7):\n",
    "            ref_year = year\n",
    "            ref_month = \"03\"\n",
    "            \n",
    "        elif month == 8 :\n",
    "            if day > 15:\n",
    "                ref_month = \"06\"\n",
    "            else:\n",
    "                ref_month = \"03\"\n",
    "            ref_year = year\n",
    "            \n",
    "        elif (month == 9) or (month == 10):\n",
    "            ref_year = year\n",
    "            ref_month = \"06\"\n",
    "            \n",
    "        elif month == 11:\n",
    "            if day > 15:\n",
    "                ref_month = \"09\"\n",
    "                \n",
    "            else:\n",
    "                ref_month = \"06\"\n",
    "            ref_year = year\n",
    "                \n",
    "        elif month == 12:\n",
    "            ref_year = year\n",
    "            ref_month = \"09\"\n",
    "        \n",
    "        \n",
    "    else:\n",
    "        ref_year = year - 1\n",
    "        ref_month = \"09\"\n",
    "        \n",
    "    return str(ref_year) + \"-\" +ref_month\n",
    "        "
   ]
  },
  {
   "cell_type": "markdown",
   "metadata": {},
   "source": [
    "## 여러조건들 중 조건 아래와 같은 조건들이 선택되었다고 가정"
   ]
  },
  {
   "cell_type": "code",
   "execution_count": 7,
   "metadata": {},
   "outputs": [],
   "source": [
    "연도재무선택조건 = [\"매출액 100억 이상\", \"영업이익 3년동안 0 이상\", \n",
    "                        \"부채비율 150% 이하\", \"배당존재\", \"ROE 5퍼 이상\", \n",
    "                        \"3년 중 2년 이상 투자활동으로인한현금흐름 0 미만\",\"3년 중 2년 이상 영업활동으로인한현금흐름 0 초과\", \n",
    "                        \"이익잉여금이 3년동안 증가\", \"영업이익률 3년동안 증가\", \"자본금 변동없음\", \"배당이 3년동안 증가\" ]\n",
    "\n",
    "분기재무선택조건 = [\"영업이익 4개분기 0 이상\", \"매출액 전년도 동기 대비 증가\"]\n",
    "\n",
    "일별주식선택조건 = [\"20일 평균거래량 20억 이하\", \"10거래일 10% 이하 상승\", \"40거래일 50% 이하 상승\", \"90거래일 최저가 영역\"]"
   ]
  },
  {
   "cell_type": "markdown",
   "metadata": {},
   "source": [
    "### 각각 해당하는 조건 데이터프레임에서 조건들을 만족하는 모든 회사들을 뽑아온다"
   ]
  },
  {
   "cell_type": "code",
   "execution_count": 8,
   "metadata": {},
   "outputs": [],
   "source": [
    "연도조건만족회사 = financial_year[연도재무선택조건][financial_year[연도재무선택조건].sum(axis = 1) == len(연도재무선택조건)]\n",
    "분기조건만족회사 = financial_quarter[분기재무선택조건][financial_quarter[분기재무선택조건].sum(axis = 1) == len(분기재무선택조건)]\n",
    "일별조건만족회사 = stock_daily[일별주식선택조건][stock_daily[일별주식선택조건].sum(axis = 1) == len(일별주식선택조건)]"
   ]
  },
  {
   "cell_type": "markdown",
   "metadata": {},
   "source": [
    "## 입력으로 받는 인자들"
   ]
  },
  {
   "cell_type": "code",
   "execution_count": null,
   "metadata": {},
   "outputs": [],
   "source": [
    "## 추후 리밸런싱을 일단위로 하지 않고 월단위로 할경우!\n",
    "## 상장폐지된 기업들 어떻게 처리할건지"
   ]
  },
  {
   "cell_type": "code",
   "execution_count": 9,
   "metadata": {},
   "outputs": [],
   "source": [
    "invest_start_day = \"2018-04-29\"\n",
    "invest_end_day = \"2019-02-01\"\n",
    "rebalancing_freq = \"30d\""
   ]
  },
  {
   "cell_type": "markdown",
   "metadata": {},
   "source": [
    "# ----------------------------------------------------------------------------------------"
   ]
  },
  {
   "cell_type": "code",
   "execution_count": 10,
   "metadata": {},
   "outputs": [],
   "source": [
    "rebalancing_day = pd.date_range(invest_start_day, invest_end_day, freq=rebalancing_freq)"
   ]
  },
  {
   "cell_type": "code",
   "execution_count": 11,
   "metadata": {},
   "outputs": [
    {
     "data": {
      "text/plain": [
       "DatetimeIndex(['2018-04-29', '2018-05-29', '2018-06-28', '2018-07-28',\n",
       "               '2018-08-27', '2018-09-26', '2018-10-26', '2018-11-25',\n",
       "               '2018-12-25', '2019-01-24'],\n",
       "              dtype='datetime64[ns]', freq='30D')"
      ]
     },
     "execution_count": 11,
     "metadata": {},
     "output_type": "execute_result"
    }
   ],
   "source": [
    "rebalancing_day"
   ]
  },
  {
   "cell_type": "code",
   "execution_count": 12,
   "metadata": {},
   "outputs": [
    {
     "data": {
      "text/plain": [
       "2017"
      ]
     },
     "execution_count": 12,
     "metadata": {},
     "output_type": "execute_result"
    }
   ],
   "source": [
    "assign_year(invest_start_day)"
   ]
  },
  {
   "cell_type": "code",
   "execution_count": 13,
   "metadata": {},
   "outputs": [
    {
     "data": {
      "text/plain": [
       "'2017-12'"
      ]
     },
     "execution_count": 13,
     "metadata": {},
     "output_type": "execute_result"
    }
   ],
   "source": [
    "assign_quarter(invest_start_day)"
   ]
  },
  {
   "cell_type": "code",
   "execution_count": 14,
   "metadata": {},
   "outputs": [],
   "source": [
    "def 해당시점조건만족회사추출(시점):\n",
    "    시점 = 시점.strftime(\"%Y-%m-%d\")\n",
    "    해당시점연도조건충족하는회사들 = 연도조건만족회사.loc[assign_year(시점)].index\n",
    "    해당시점분기조건충족하는회사들 = 분기조건만족회사.loc[assign_quarter(시점)].index\n",
    "    해당시점일별조건충족하는회사들 = 일별조건만족회사.loc[시점].index\n",
    "    \n",
    "    모든회사 = 해당시점연도조건충족하는회사들.tolist() + 해당시점분기조건충족하는회사들.tolist() + 해당시점연도조건충족하는회사들.tolist()\n",
    "    모든조건충족회사 = list(set([x for x in 모든회사 if 모든회사.count(x) == 3]))\n",
    "    return 모든조건충족회사"
   ]
  },
  {
   "cell_type": "code",
   "execution_count": 102,
   "metadata": {},
   "outputs": [],
   "source": [
    "수익률 = pd.DataFrame()\n",
    "회사개수 = pd.DataFrame()\n",
    "last_portfolio = 100\n",
    "for day in rebalancing_day:\n",
    "    rebalancing_freq_int = int(rebalancing_freq[:-1])\n",
    "    조건만족회사 =  해당시점조건만족회사추출(day)\n",
    "\n",
    "    start_time = day\n",
    "    end_time = start_time + relativedelta(days = rebalancing_freq_int)\n",
    "    A = 주가[start_time:end_time][조건만족회사]\n",
    "    \n",
    "    \n",
    "    B = (A - A.shift(1) )/ A.shift(1)\n",
    "    B = B + 1\n",
    "    B = B.fillna(last_portfolio)\n",
    "    B = B.cumprod().mean(axis = 1)\n",
    "    last_portfolio = B[-1]\n",
    "    B = pd.DataFrame(B, columns = [\"포트폴리오가치\"])\n",
    "    \n",
    "    \n",
    "    포트폴리오개수 = A.count(axis = 1)\n",
    "    포트폴리오개수 = pd.DataFrame(포트폴리오개수, columns = [\"회사개수\"])\n",
    "    회사개수 = pd.concat([회사개수, 포트폴리오개수])\n",
    "    \n",
    "\n",
    "    수익률 = pd.concat([수익률, B])\n",
    "    "
   ]
  },
  {
   "cell_type": "code",
   "execution_count": 107,
   "metadata": {},
   "outputs": [],
   "source": [
    "최종 = pd.concat([수익률, 회사개수], axis = 1)"
   ]
  },
  {
   "cell_type": "code",
   "execution_count": 108,
   "metadata": {},
   "outputs": [
    {
     "data": {
      "text/plain": [
       "[<matplotlib.lines.Line2D at 0x1eb1494e978>]"
      ]
     },
     "execution_count": 108,
     "metadata": {},
     "output_type": "execute_result"
    },
    {
     "data": {
      "image/png": "[encoded data removed]",
      "text/plain": [
       "<Figure size 432x288 with 1 Axes>"
      ]
     },
     "metadata": {
      "needs_background": "light"
     },
     "output_type": "display_data"
    }
   ],
   "source": [
    "plt.plot(최종[\"포트폴리오가치\"])"
   ]
  }
 ],
 "metadata": {
  "kernelspec": {
   "display_name": "Python 3",
   "language": "python",
   "name": "python3"
  },
  "language_info": {
   "codemirror_mode": {
    "name": "ipython",
    "version": 3
   },
   "file_extension": ".py",
   "mimetype": "text/x-python",
   "name": "python",
   "nbconvert_exporter": "python",
   "pygments_lexer": "ipython3",
   "version": "3.7.3"
  }
 },
 "nbformat": 4,
 "nbformat_minor": 2
}
