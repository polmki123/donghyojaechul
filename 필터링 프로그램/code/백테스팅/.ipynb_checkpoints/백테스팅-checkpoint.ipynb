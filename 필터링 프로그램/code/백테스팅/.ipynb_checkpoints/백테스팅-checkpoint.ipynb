{
 "cells": [
  {
   "cell_type": "code",
   "execution_count": 1,
   "metadata": {},
   "outputs": [],
   "source": [
    "import numpy as np\n",
    "import pandas as pd\n",
    "import datetime"
   ]
  },
  {
   "cell_type": "code",
   "execution_count": 80,
   "metadata": {},
   "outputs": [],
   "source": [
    "주가 = pd.read_csv(\"..\\\\..\\\\data\\\\daily_price.csv\", encoding = \"ms949\")\n",
    "\n",
    "financial_quarter = pd.read_csv(\"..\\\\..\\\\code\\\\데이터 전처리\\\\quarter_filter.csv\", encoding = \"ms949\", index_col = [\"Symbol\", \"date\"])\n",
    "financial_year = pd.read_csv(\"..\\\\..\\\\code\\\\데이터 전처리\\\\year_filter.csv\", encoding = \"ms949\", index_col = [\"Symbol\", \"date\"])\n",
    "stock_daily = pd.read_csv(\"..\\\\..\\\\code\\\\데이터 전처리\\\\daily_stock_filter.csv\", encoding = \"ms949\", index_col = [\"Symbol\", \"date\"])"
   ]
  },
  {
   "cell_type": "code",
   "execution_count": 81,
   "metadata": {},
   "outputs": [],
   "source": [
    "주가 = 주가.drop(\"Item Name \", axis = 1)\n",
    "주가 = 주가.set_index(\"Symbol\")\n",
    "시간변환 = pd.to_datetime(주가.columns)\n",
    "시간변환 = 시간변환.strftime(\"%Y-%m-%d\")\n",
    "시간변환 = 시간변환.rename(\"date\")\n",
    "주가.columns = 시간변환\n",
    "\n",
    "for 시간 in 주가.columns:\n",
    "    주가[시간] = 주가[시간].str.replace(',', \"\")\n",
    "\n",
    "주가 = 주가.astype(float)"
   ]
  },
  {
   "cell_type": "code",
   "execution_count": 82,
   "metadata": {},
   "outputs": [],
   "source": [
    "financial_year = financial_year.reset_index().set_index([\"date\", \"Symbol\"])\n",
    "financial_quarter = financial_quarter.reset_index().set_index([\"date\", \"Symbol\"])\n",
    "stock_daily = stock_daily.reset_index().set_index([\"date\", \"Symbol\"])"
   ]
  },
  {
   "cell_type": "code",
   "execution_count": 48,
   "metadata": {},
   "outputs": [],
   "source": [
    "def assign_year(date):\n",
    "    date = datetime.datetime.strptime(date, \"%Y-%m-%d\")\n",
    "    year = date.year\n",
    "    month = date.month\n",
    "    \n",
    "    if month > 3:\n",
    "        ref_year = year - 1\n",
    "        \n",
    "    else:\n",
    "        ref_year = year - 2\n",
    "        \n",
    "    return (ref_year)\n",
    "        "
   ]
  },
  {
   "cell_type": "code",
   "execution_count": 84,
   "metadata": {},
   "outputs": [],
   "source": [
    "def assign_quarter(date):\n",
    "    date = datetime.datetime.strptime(date, \"%Y-%m-%d\")\n",
    "    year = date.year\n",
    "    month = date.month\n",
    "    day = date.day\n",
    "    \n",
    "    if month > 3:\n",
    "        if month == 4:\n",
    "            ref_year = year - 1\n",
    "            ref_month = \"12\"\n",
    "            \n",
    "        elif month == 5:\n",
    "            if day > 15:\n",
    "                ref_year = year\n",
    "                ref_month = \"03\"\n",
    "            else:\n",
    "                ref_year = year - 1\n",
    "                ref_month = \"12\"\n",
    "                \n",
    "        elif (month == 6) or (month == 7):\n",
    "            ref_year = year\n",
    "            ref_month = \"03\"\n",
    "            \n",
    "        elif month == 8 :\n",
    "            if day > 15:\n",
    "                ref_month = \"06\"\n",
    "            else:\n",
    "                ref_month = \"03\"\n",
    "            ref_year = year\n",
    "            \n",
    "        elif (month == 9) or (month == 10):\n",
    "            ref_year = year\n",
    "            ref_month = \"06\"\n",
    "            \n",
    "        elif month == 11:\n",
    "            if day > 15:\n",
    "                ref_month = \"09\"\n",
    "                \n",
    "            else:\n",
    "                ref_month = \"06\"\n",
    "            ref_year = year\n",
    "                \n",
    "        elif month == 12:\n",
    "            ref_year = year\n",
    "            ref_month = \"09\"\n",
    "        \n",
    "        \n",
    "    else:\n",
    "        ref_year = year - 1\n",
    "        ref_month = \"09\"\n",
    "        \n",
    "    return str(ref_year) + \"-\" +ref_month\n",
    "        "
   ]
  },
  {
   "cell_type": "code",
   "execution_count": 147,
   "metadata": {},
   "outputs": [],
   "source": [
    "연도재무선택조건 = [\"매출액 100억 이상\", \"영업이익 3년동안 0 이상\", \n",
    "                        \"부채비율 150% 이하\", \"배당존재\", \"ROE 5퍼 이상\", \n",
    "                        \"3년 중 2년 이상 투자활동으로인한현금흐름 0 미만\",\"3년 중 2년 이상 영업활동으로인한현금흐름 0 초과\", \n",
    "                        \"이익잉여금이 3년동안 증가\", \"영업이익률 3년동안 증가\", \"자본금 변동없음\", \"배당이 3년동안 증가\" ]"
   ]
  },
  {
   "cell_type": "code",
   "execution_count": 212,
   "metadata": {},
   "outputs": [],
   "source": [
    "분기재무선택조건 = [\"영업이익 4개분기 0 이상\", \"매출액 전년도 동기 대비 증가\"]"
   ]
  },
  {
   "cell_type": "code",
   "execution_count": 213,
   "metadata": {},
   "outputs": [],
   "source": [
    "일별주식선택조건 = [\"20일 평균거래량 20억 이하\", \"10거래일 10% 이하 상승\", \"40거래일 50% 이하 상승\", \"60거래일 최저가 영역\", \"90거래일 최저가 영역\"]"
   ]
  },
  {
   "cell_type": "code",
   "execution_count": 214,
   "metadata": {},
   "outputs": [],
   "source": [
    "연도조건만족회사 = financial_year[연도재무선택조건][financial_year[연도재무선택조건].sum(axis = 1) == len(연도재무선택조건)]\n",
    "\n",
    "분기조건만족회사 = financial_quarter[분기재무선택조건][financial_quarter[분기재무선택조건].sum(axis = 1) == len(분기재무선택조건)]\n",
    "\n",
    "일별조건만족회사 = stock_daily[일별주식선택조건][stock_daily[일별주식선택조건].sum(axis = 1) == len(일별주식선택조건)]"
   ]
  },
  {
   "cell_type": "code",
   "execution_count": 238,
   "metadata": {},
   "outputs": [],
   "source": [
    "invest_start_day = \"2018-05-29\"\n",
    "invest_end_day = \"2019-02-01\"\n",
    "rebalancing_day = \"3month\""
   ]
  },
  {
   "cell_type": "markdown",
   "metadata": {},
   "source": [
    "# ----------------------------------------------------------------------------------------"
   ]
  },
  {
   "cell_type": "code",
   "execution_count": 239,
   "metadata": {},
   "outputs": [
    {
     "data": {
      "text/plain": [
       "2017"
      ]
     },
     "execution_count": 239,
     "metadata": {},
     "output_type": "execute_result"
    }
   ],
   "source": [
    "assign_year(invest_start_day)"
   ]
  },
  {
   "cell_type": "code",
   "execution_count": 240,
   "metadata": {},
   "outputs": [
    {
     "data": {
      "text/plain": [
       "'2018-03'"
      ]
     },
     "execution_count": 240,
     "metadata": {},
     "output_type": "execute_result"
    }
   ],
   "source": [
    "assign_quarter(invest_start_day)"
   ]
  },
  {
   "cell_type": "code",
   "execution_count": 241,
   "metadata": {},
   "outputs": [],
   "source": [
    "해당시점연도조건충족하는회사들 = 연도조건만족회사.loc[assign_year(invest_start_day)].index\n",
    "해당시점분기조건충족하는회사들 = 분기조건만족회사.loc[assign_quarter(invest_start_day)].index\n",
    "해당시점일별조건충족하는회사들 = 일별조건만족회사.loc[invest_start_day].index"
   ]
  },
  {
   "cell_type": "code",
   "execution_count": 242,
   "metadata": {},
   "outputs": [
    {
     "data": {
      "text/plain": [
       "Index(['A003230', 'A004890', 'A005500', 'A005810', 'A005930', 'A010960',\n",
       "       'A012510', 'A012630', 'A013120', 'A018260', 'A018880', 'A023910',\n",
       "       'A030190', 'A031440', 'A031980', 'A032560', 'A032640', 'A033270',\n",
       "       'A033320', 'A034950', 'A039010', 'A045060', 'A046890', 'A051900',\n",
       "       'A053800', 'A064760', 'A071840', 'A086450', 'A090470', 'A092730',\n",
       "       'A094850', 'A145720', 'A152330', 'A210540', 'A234080'],\n",
       "      dtype='object', name='Symbol')"
      ]
     },
     "execution_count": 242,
     "metadata": {},
     "output_type": "execute_result"
    }
   ],
   "source": [
    "해당시점연도조건충족하는회사들"
   ]
  },
  {
   "cell_type": "code",
   "execution_count": 243,
   "metadata": {},
   "outputs": [
    {
     "data": {
      "text/plain": [
       "Index(['A000010', 'A000030', 'A000060', 'A000070', 'A000080', 'A000110',\n",
       "       'A000120', 'A000150', 'A000210', 'A000220',\n",
       "       ...\n",
       "       'A248170', 'A249420', 'A250000', 'A251370', 'A251630', 'A253450',\n",
       "       'A263700', 'A263720', 'A263750', 'A263810'],\n",
       "      dtype='object', name='Symbol', length=507)"
      ]
     },
     "execution_count": 243,
     "metadata": {},
     "output_type": "execute_result"
    }
   ],
   "source": [
    "해당시점분기조건충족하는회사들"
   ]
  },
  {
   "cell_type": "code",
   "execution_count": 244,
   "metadata": {},
   "outputs": [
    {
     "data": {
      "text/plain": [
       "Index(['A026960', 'A013890', 'A138040', 'A000240', 'A000670', 'A175330',\n",
       "       'A001800', 'A005250', 'A005850', 'A036540',\n",
       "       ...\n",
       "       'A192530', 'A194610', 'A226850', 'A230490', 'A232270', 'A235010',\n",
       "       'A262830', 'A264290', 'A265480', 'A265920'],\n",
       "      dtype='object', name='Symbol', length=473)"
      ]
     },
     "execution_count": 244,
     "metadata": {},
     "output_type": "execute_result"
    }
   ],
   "source": [
    "해당시점일별조건충족하는회사들"
   ]
  },
  {
   "cell_type": "code",
   "execution_count": 245,
   "metadata": {},
   "outputs": [],
   "source": [
    "# 해당조건들을 모두 만족하는 회사가 하나도 없을 경우에 어떻게 처리할 것인지 !!"
   ]
  },
  {
   "cell_type": "code",
   "execution_count": 246,
   "metadata": {},
   "outputs": [],
   "source": [
    "모든회사 = 해당시점연도조건충족하는회사들.tolist() + 해당시점분기조건충족하는회사들.tolist() + 해당시점연도조건충족하는회사들.tolist()"
   ]
  },
  {
   "cell_type": "code",
   "execution_count": 247,
   "metadata": {},
   "outputs": [],
   "source": [
    "모든조건충족회사 = list(set([x for x in 모든회사 if 모든회사.count(x) == 3]))\n"
   ]
  },
  {
   "cell_type": "code",
   "execution_count": 248,
   "metadata": {},
   "outputs": [
    {
     "data": {
      "text/plain": [
       "['A210540',\n",
       " 'A051900',\n",
       " 'A012510',\n",
       " 'A046890',\n",
       " 'A086450',\n",
       " 'A033320',\n",
       " 'A039010',\n",
       " 'A004890',\n",
       " 'A031440',\n",
       " 'A234080',\n",
       " 'A005930',\n",
       " 'A012630',\n",
       " 'A145720',\n",
       " 'A005810',\n",
       " 'A030190',\n",
       " 'A018260',\n",
       " 'A032640',\n",
       " 'A092730',\n",
       " 'A053800',\n",
       " 'A003230']"
      ]
     },
     "execution_count": 248,
     "metadata": {},
     "output_type": "execute_result"
    }
   ],
   "source": [
    "모든조건충족회사"
   ]
  },
  {
   "cell_type": "code",
   "execution_count": 249,
   "metadata": {},
   "outputs": [],
   "source": [
    "포트폴리오산입회사와가격 = 주가[invest_start_day].loc[모든조건충족회사]"
   ]
  },
  {
   "cell_type": "code",
   "execution_count": 250,
   "metadata": {},
   "outputs": [],
   "source": [
    "포트폴리오이후주가 = 주가[invest_end_day].loc[모든조건충족회사]"
   ]
  },
  {
   "cell_type": "code",
   "execution_count": 251,
   "metadata": {},
   "outputs": [],
   "source": [
    "수익률자료 = pd.concat([포트폴리오산입회사와가격, 포트폴리오이후주가], axis = 1)"
   ]
  },
  {
   "cell_type": "code",
   "execution_count": 252,
   "metadata": {},
   "outputs": [],
   "source": [
    "수익률 =(수익률자료.iloc[:, 0] - 수익률자료.iloc[:, 1]) / 수익률자료.iloc[:, 0]"
   ]
  },
  {
   "cell_type": "code",
   "execution_count": 253,
   "metadata": {},
   "outputs": [
    {
     "data": {
      "text/plain": [
       "0.14815703061338859"
      ]
     },
     "execution_count": 253,
     "metadata": {},
     "output_type": "execute_result"
    }
   ],
   "source": [
    "수익률.mean()"
   ]
  },
  {
   "cell_type": "code",
   "execution_count": null,
   "metadata": {},
   "outputs": [],
   "source": []
  }
 ],
 "metadata": {
  "kernelspec": {
   "display_name": "Python 3",
   "language": "python",
   "name": "python3"
  },
  "language_info": {
   "codemirror_mode": {
    "name": "ipython",
    "version": 3
   },
   "file_extension": ".py",
   "mimetype": "text/x-python",
   "name": "python",
   "nbconvert_exporter": "python",
   "pygments_lexer": "ipython3",
   "version": "3.7.3"
  }
 },
 "nbformat": 4,
 "nbformat_minor": 2
}
