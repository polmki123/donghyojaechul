{
 "cells": [
  {
   "cell_type": "markdown",
   "metadata": {},
   "source": [
    "### Dart Open Api 사용해서 크롤링"
   ]
  },
  {
   "cell_type": "code",
   "execution_count": 1,
   "metadata": {},
   "outputs": [],
   "source": [
    "import pandas as pd\n",
    "from bs4 import BeautifulSoup\n",
    "import webbrowser\n",
    "import json\n",
    "import requests"
   ]
  },
  {
   "cell_type": "code",
   "execution_count": 2,
   "metadata": {},
   "outputs": [],
   "source": [
    "# 개발 참조 https://opendart.fss.or.kr/guide/main.do?apiGrpCd=DS003"
   ]
  },
  {
   "cell_type": "markdown",
   "metadata": {},
   "source": [
    "### 상장된 회사들만 조회하기 위해, 상장회사의 코드를 통해 공시고유번호를 추출한다."
   ]
  },
  {
   "cell_type": "code",
   "execution_count": 3,
   "metadata": {},
   "outputs": [],
   "source": [
    "# 상장된 회사들의 회사코드"
   ]
  },
  {
   "cell_type": "code",
   "execution_count": 4,
   "metadata": {},
   "outputs": [],
   "source": [
    "df_listed = pd.read_csv(\"상장회사목록.csv\", encoding = \"ms949\")\n",
    "\n",
    "상장기업 = df_listed[\"상장코드\"]\n",
    "def delete_A(list_code):\n",
    "    new_code = list_code[1:]\n",
    "    return new_code\n",
    "\n",
    "df_listed[\"상장코드\"] = 상장기업.apply(delete_A)\n",
    "상장코드 = df_listed[\"상장코드\"]"
   ]
  },
  {
   "cell_type": "code",
   "execution_count": 5,
   "metadata": {},
   "outputs": [],
   "source": [
    "# 회사공시고유번호정보"
   ]
  },
  {
   "cell_type": "code",
   "execution_count": 6,
   "metadata": {},
   "outputs": [],
   "source": [
    "df_crpcode = pd.read_csv(\"회사별 공시고유번호.csv\", encoding = \"ms949\")\n",
    "df_crpcode = df_crpcode.drop(\"Unnamed: 0\", axis = 1)"
   ]
  },
  {
   "cell_type": "code",
   "execution_count": 7,
   "metadata": {},
   "outputs": [],
   "source": [
    "# 공시고유번호는 무조건 8자리여야 하기 때문에 8자리 아닌 것들은 앞에 0을 붙여줌\n",
    "def make_eight_digits(crpcode):\n",
    "    crpcode = str(crpcode)\n",
    "    code_length = len(crpcode)\n",
    "    add_zeros = 8 - code_length\n",
    "    prefix = add_zeros * str(0)\n",
    "    return(prefix + crpcode)\n",
    "    \n",
    "\n",
    "df_crpcode[\"공시고유번호\"] = df_crpcode[\"공시고유번호\"].apply(make_eight_digits)"
   ]
  },
  {
   "cell_type": "markdown",
   "metadata": {},
   "source": [
    "#### 상장코드가 존재하는 회사들의 공시고유번호만 뽑아와서 데이터프레임을 만듦"
   ]
  },
  {
   "cell_type": "code",
   "execution_count": 8,
   "metadata": {},
   "outputs": [],
   "source": [
    "old = pd.DataFrame()\n",
    "for company in 상장코드:\n",
    "    new = df_crpcode[df_crpcode[\"상장코드\"] == company]\n",
    "    old = pd.concat([old, new])"
   ]
  },
  {
   "cell_type": "code",
   "execution_count": 9,
   "metadata": {},
   "outputs": [
    {
     "data": {
      "text/html": [
       "<div>\n",
       "<style scoped>\n",
       "    .dataframe tbody tr th:only-of-type {\n",
       "        vertical-align: middle;\n",
       "    }\n",
       "\n",
       "    .dataframe tbody tr th {\n",
       "        vertical-align: top;\n",
       "    }\n",
       "\n",
       "    .dataframe thead th {\n",
       "        text-align: right;\n",
       "    }\n",
       "</style>\n",
       "<table border=\"1\" class=\"dataframe\">\n",
       "  <thead>\n",
       "    <tr style=\"text-align: right;\">\n",
       "      <th></th>\n",
       "      <th>공시고유번호</th>\n",
       "      <th>상장코드</th>\n",
       "      <th>최종수정일</th>\n",
       "      <th>회사명</th>\n",
       "    </tr>\n",
       "  </thead>\n",
       "  <tbody>\n",
       "    <tr>\n",
       "      <th>67511</th>\n",
       "      <td>00126380</td>\n",
       "      <td>005930</td>\n",
       "      <td>20191209</td>\n",
       "      <td>삼성전자</td>\n",
       "    </tr>\n",
       "    <tr>\n",
       "      <th>71468</th>\n",
       "      <td>00164779</td>\n",
       "      <td>000660</td>\n",
       "      <td>20191206</td>\n",
       "      <td>SK하이닉스</td>\n",
       "    </tr>\n",
       "    <tr>\n",
       "      <th>70948</th>\n",
       "      <td>00877059</td>\n",
       "      <td>207940</td>\n",
       "      <td>20200113</td>\n",
       "      <td>삼성바이오로직스</td>\n",
       "    </tr>\n",
       "    <tr>\n",
       "      <th>72717</th>\n",
       "      <td>00266961</td>\n",
       "      <td>035420</td>\n",
       "      <td>20200114</td>\n",
       "      <td>NAVER</td>\n",
       "    </tr>\n",
       "    <tr>\n",
       "      <th>75127</th>\n",
       "      <td>00164742</td>\n",
       "      <td>005380</td>\n",
       "      <td>20200110</td>\n",
       "      <td>현대자동차</td>\n",
       "    </tr>\n",
       "  </tbody>\n",
       "</table>\n",
       "</div>"
      ],
      "text/plain": [
       "         공시고유번호    상장코드     최종수정일       회사명\n",
       "67511  00126380  005930  20191209      삼성전자\n",
       "71468  00164779  000660  20191206    SK하이닉스\n",
       "70948  00877059  207940  20200113  삼성바이오로직스\n",
       "72717  00266961  035420  20200114     NAVER\n",
       "75127  00164742  005380  20200110     현대자동차"
      ]
     },
     "execution_count": 9,
     "metadata": {},
     "output_type": "execute_result"
    }
   ],
   "source": [
    "old.head()"
   ]
  },
  {
   "cell_type": "code",
   "execution_count": 42,
   "metadata": {},
   "outputs": [],
   "source": [
    "# 요청값\n",
    "# 내 API key니까 다들 하나씩 발급받으면 좋을듯!\n",
    "# 1일 1만회 요청건수 제한\n",
    "auth_key=\"847436c641de81093f023d156e8686df4e226471\" \n",
    "# 사업연도 설정\n",
    "사업연도 =\"2018\"\n",
    "# 1분기보고서 : 11013\n",
    "# 반기보고서 : 11012\n",
    "# 3분기보고서 : 11014\n",
    "# 사업보고서 : 11011\n",
    "report_code = \"11014\""
   ]
  },
  {
   "cell_type": "code",
   "execution_count": 43,
   "metadata": {},
   "outputs": [],
   "source": [
    "crp_code =\"00356370\" "
   ]
  },
  {
   "cell_type": "code",
   "execution_count": 44,
   "metadata": {},
   "outputs": [],
   "source": [
    "url = \"https://opendart.fss.or.kr/api/fnlttSinglAcnt.json?crtfc_key={0}&corp_code={1}&bsns_year={2}&reprt_code={3}\"\n",
    "url = url.format(auth_key, crp_code, 사업연도, report_code)"
   ]
  },
  {
   "cell_type": "code",
   "execution_count": 1,
   "metadata": {},
   "outputs": [
    {
     "ename": "NameError",
     "evalue": "name 'requests' is not defined",
     "output_type": "error",
     "traceback": [
      "\u001b[1;31m---------------------------------------------------------------------------\u001b[0m",
      "\u001b[1;31mNameError\u001b[0m                                 Traceback (most recent call last)",
      "\u001b[1;32m<ipython-input-1-d1e0fea2cafd>\u001b[0m in \u001b[0;36m<module>\u001b[1;34m\u001b[0m\n\u001b[1;32m----> 1\u001b[1;33m \u001b[0mresponse\u001b[0m \u001b[1;33m=\u001b[0m \u001b[0mrequests\u001b[0m\u001b[1;33m.\u001b[0m\u001b[0mget\u001b[0m\u001b[1;33m(\u001b[0m\u001b[0murl\u001b[0m\u001b[1;33m)\u001b[0m\u001b[1;33m\u001b[0m\u001b[1;33m\u001b[0m\u001b[0m\n\u001b[0m\u001b[0;32m      2\u001b[0m \u001b[0mdata\u001b[0m \u001b[1;33m=\u001b[0m \u001b[0mjson\u001b[0m\u001b[1;33m.\u001b[0m\u001b[0mloads\u001b[0m\u001b[1;33m(\u001b[0m\u001b[0mresponse\u001b[0m\u001b[1;33m.\u001b[0m\u001b[0mcontent\u001b[0m\u001b[1;33m)\u001b[0m\u001b[1;33m\u001b[0m\u001b[1;33m\u001b[0m\u001b[0m\n\u001b[0;32m      3\u001b[0m \u001b[1;33m\u001b[0m\u001b[0m\n\u001b[0;32m      4\u001b[0m \u001b[0mdata\u001b[0m\u001b[1;33m.\u001b[0m\u001b[0mhead\u001b[0m\u001b[1;33m(\u001b[0m\u001b[1;33m)\u001b[0m\u001b[1;33m\u001b[0m\u001b[1;33m\u001b[0m\u001b[0m\n",
      "\u001b[1;31mNameError\u001b[0m: name 'requests' is not defined"
     ]
    }
   ],
   "source": [
    "response = requests.get(url)\n",
    "data = json.loads(response.content)\n",
    "\n",
    "data.head()"
   ]
  },
  {
   "cell_type": "code",
   "execution_count": null,
   "metadata": {},
   "outputs": [],
   "source": [
    "# 문제가 2019년 3분기가 다운로드가 안 됨--- 왜 안되는지 모르겠네.."
   ]
  },
  {
   "cell_type": "code",
   "execution_count": null,
   "metadata": {},
   "outputs": [],
   "source": []
  }
 ],
 "metadata": {
  "kernelspec": {
   "display_name": "Python 3",
   "language": "python",
   "name": "python3"
  },
  "language_info": {
   "codemirror_mode": {
    "name": "ipython",
    "version": 3
   },
   "file_extension": ".py",
   "mimetype": "text/x-python",
   "name": "python",
   "nbconvert_exporter": "python",
   "pygments_lexer": "ipython3",
   "version": "3.7.3"
  }
 },
 "nbformat": 4,
 "nbformat_minor": 2
}
