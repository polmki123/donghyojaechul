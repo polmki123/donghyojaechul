{
 "cells": [
  {
   "cell_type": "markdown",
   "metadata": {},
   "source": [
    "### 공시고유번호 추출기"
   ]
  },
  {
   "cell_type": "code",
   "execution_count": 12,
   "metadata": {},
   "outputs": [],
   "source": [
    "import pandas as pd\n",
    "from bs4 import BeautifulSoup\n",
    "import webbrowser\n",
    "import json\n",
    "import requests\n",
    "import xml\n",
    "import urllib.request\n",
    "import pickle\n",
    "from zipfile import ZipFile \n",
    "import xml.etree.ElementTree as elemTree\n",
    "from requests import get "
   ]
  },
  {
   "cell_type": "code",
   "execution_count": 3,
   "metadata": {},
   "outputs": [],
   "source": [
    "# 개발 참조 https://opendart.fss.or.kr/guide/main.do?apiGrpCd=DS003"
   ]
  },
  {
   "cell_type": "code",
   "execution_count": 3,
   "metadata": {},
   "outputs": [],
   "source": [
    "# 요청값\n",
    "# 내 API key니까 다들 하나씩 발급받으면 좋을듯!\n",
    "# 1일 1만회 요청건수 제한\n",
    "auth_key=\"847436c641de81093f023d156e8686df4e226471\" "
   ]
  },
  {
   "cell_type": "code",
   "execution_count": 4,
   "metadata": {},
   "outputs": [],
   "source": [
    "url = \"https://opendart.fss.or.kr/api/corpCode.xml?crtfc_key={0}\"\n",
    "url = url.format(auth_key)"
   ]
  },
  {
   "cell_type": "code",
   "execution_count": 5,
   "metadata": {},
   "outputs": [],
   "source": [
    "def download(url, file_name):\n",
    "    with open(file_name, \"wb\") as file:   # open in binary mode\n",
    "        response = get(url)               # get request\n",
    "        file.write(response.content)"
   ]
  },
  {
   "cell_type": "code",
   "execution_count": 6,
   "metadata": {},
   "outputs": [],
   "source": [
    "download(url, \"공시고유번호.zip\")"
   ]
  },
  {
   "cell_type": "code",
   "execution_count": 7,
   "metadata": {},
   "outputs": [],
   "source": [
    "doc = elemTree.parse(\"공시고유번호\\\\CORPCODE.xml\")"
   ]
  },
  {
   "cell_type": "code",
   "execution_count": 9,
   "metadata": {},
   "outputs": [],
   "source": [
    "root = doc.getroot()"
   ]
  },
  {
   "cell_type": "code",
   "execution_count": 10,
   "metadata": {},
   "outputs": [],
   "source": [
    "old = pd.DataFrame()\n",
    "for child in root: \n",
    "    for children in child:\n",
    "        if children.tag == \"corp_name\":\n",
    "            company_name = children.text\n",
    "        \n",
    "        elif children.tag == \"corp_code\":\n",
    "            company_code = children.text\n",
    "            \n",
    "        elif children.tag == \"stock_code\":\n",
    "            stock_code = children.text\n",
    "            \n",
    "        elif children.tag == \"modify_date\":\n",
    "            modify_date = children.text\n",
    "\n",
    "        \n",
    "    company_data = {\"회사명\" : company_name, \"공시고유번호\" : company_code, \"최종수정일\" : modify_date, \"상장코드\" : stock_code}\n",
    "    company_data= pd.DataFrame([company_data])\n",
    "    old = pd.concat([old, company_data])\n"
   ]
  },
  {
   "cell_type": "code",
   "execution_count": 19,
   "metadata": {},
   "outputs": [],
   "source": [
    "old[\"공시고유번호\"] = old[\"공시고유번호\"].astype(str)"
   ]
  },
  {
   "cell_type": "code",
   "execution_count": 24,
   "metadata": {},
   "outputs": [
    {
     "data": {
      "text/plain": [
       "0    00434003\n",
       "0    00434456\n",
       "0    00430964\n",
       "0    00432403\n",
       "0    00388953\n",
       "0    00179984\n",
       "0    00420143\n",
       "0    00401111\n",
       "0    00435534\n",
       "0    00430186\n",
       "0    00430201\n",
       "0    00430210\n",
       "0    00430229\n",
       "0    00140432\n",
       "0    00426208\n",
       "0    00433262\n",
       "0    00433749\n",
       "0    00433785\n",
       "0    00196079\n",
       "0    00435048\n",
       "0    00435057\n",
       "0    00108843\n",
       "0    00443232\n",
       "0    00248293\n",
       "0    00455662\n",
       "0    00149318\n",
       "0    00451347\n",
       "0    00415105\n",
       "0    00420824\n",
       "0    00389439\n",
       "       ...   \n",
       "0    01374522\n",
       "0    01156865\n",
       "0    00447210\n",
       "0    01298189\n",
       "0    00137854\n",
       "0    00105536\n",
       "0    01288146\n",
       "0    01077489\n",
       "0    00450621\n",
       "0    00618100\n",
       "0    01017089\n",
       "0    01133165\n",
       "0    01077984\n",
       "0    00842178\n",
       "0    00813422\n",
       "0    00766966\n",
       "0    00655174\n",
       "0    01021602\n",
       "0    00626163\n",
       "0    00769769\n",
       "0    00253985\n",
       "0    00251880\n",
       "0    00153418\n",
       "0    00806440\n",
       "0    01330096\n",
       "0    01011827\n",
       "0    00894621\n",
       "0    00481852\n",
       "0    00918949\n",
       "0    00132008\n",
       "Name: 공시고유번호, Length: 76661, dtype: object"
      ]
     },
     "execution_count": 24,
     "metadata": {},
     "output_type": "execute_result"
    }
   ],
   "source": [
    "old[\"공시고유번호\"]"
   ]
  },
  {
   "cell_type": "code",
   "execution_count": null,
   "metadata": {},
   "outputs": [],
   "source": []
  },
  {
   "cell_type": "code",
   "execution_count": 20,
   "metadata": {},
   "outputs": [],
   "source": [
    "old.to_csv(\"회사별 공시고유번호.csv\", encoding = \"ms949\")"
   ]
  },
  {
   "cell_type": "code",
   "execution_count": null,
   "metadata": {},
   "outputs": [],
   "source": []
  }
 ],
 "metadata": {
  "kernelspec": {
   "display_name": "Python 3",
   "language": "python",
   "name": "python3"
  },
  "language_info": {
   "codemirror_mode": {
    "name": "ipython",
    "version": 3
   },
   "file_extension": ".py",
   "mimetype": "text/x-python",
   "name": "python",
   "nbconvert_exporter": "python",
   "pygments_lexer": "ipython3",
   "version": "3.7.3"
  }
 },
 "nbformat": 4,
 "nbformat_minor": 2
}
